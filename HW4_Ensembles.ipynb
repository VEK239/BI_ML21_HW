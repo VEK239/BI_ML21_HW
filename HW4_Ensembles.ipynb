{
 "cells": [
  {
   "cell_type": "markdown",
   "metadata": {},
   "source": [
    "# Случайные леса\n",
    "__Суммарное количество баллов: 10__\n",
    "\n",
    "В этом задании вам предстоит реализовать ансамбль деревьев решений, известный как случайный лес, применить его к публичным данным и сравнить его эффективность с ансамблями из самых популярных библиотек."
   ]
  },
  {
   "cell_type": "code",
   "execution_count": 1,
   "metadata": {},
   "outputs": [],
   "source": [
    "from sklearn.model_selection import train_test_split, cross_validate, KFold\n",
    "from sklearn.metrics import roc_auc_score, accuracy_score\n",
    "import numpy as np\n",
    "import pandas as pd\n",
    "import random\n",
    "import math\n",
    "import matplotlib.pyplot as plt\n",
    "import matplotlib\n",
    "import copy"
   ]
  },
  {
   "cell_type": "markdown",
   "metadata": {},
   "source": [
    "### Задание 1 (3 балла)\n",
    "Реализуем сам Random Forest. Идея очень простая: строим `n` деревьев, а затем берем модальное предсказание. Используйте реализацию дерева из HW3.\n",
    "\n",
    "#### Параметры конструктора\n",
    "`n_estimators` - количество используемых для предсказания деревьев.\n",
    "\n",
    "Остальное - параметры деревьев.\n",
    "\n",
    "#### Методы\n",
    "`fit(X, y)` - строит `n_estimators` деревьев по выборке `X`.\n",
    "\n",
    "`predict(X)` - для каждого элемента выборки `X` возвращает самый частый класс, который предсказывают для него деревья."
   ]
  },
  {
   "cell_type": "code",
   "execution_count": 2,
   "metadata": {},
   "outputs": [],
   "source": [
    "from decision_tree_implementation import DecisionTreeClassifier"
   ]
  },
  {
   "cell_type": "code",
   "execution_count": 47,
   "metadata": {},
   "outputs": [],
   "source": [
    "class RandomForestClassifier:\n",
    "    \n",
    "    class DecisionTree:\n",
    "        def __init__(self, features_size, criterion, max_depth, min_samples_leaf):\n",
    "            self.features_size = features_size\n",
    "            self.criterion = criterion\n",
    "            self.max_depth = max_depth\n",
    "            self.min_samples_leaf = min_samples_leaf \n",
    "        def fit(self, X, y):\n",
    "            self.features_indices = random.sample(range(len(X.columns)), k = self.features_size(len(X.columns)))\n",
    "            X = X.copy()\n",
    "            X = X.iloc[:, self.features_indices]\n",
    "            self.clf = DecisionTreeClassifier(criterion=self.criterion, max_depth = self.max_depth, min_samples_leaf=self.min_samples_leaf)\n",
    "            self.clf.fit(X, y)\n",
    "        def predict(self, X):\n",
    "            X = X.copy()\n",
    "            X = X.iloc[:, self.features_indices]   \n",
    "            return self.clf.predict(X)                                      \n",
    "            \n",
    "            \n",
    "    def __init__(self, n_trees=10, criterion=\"gini\", max_depth=None, min_samples_leaf=1, max_features=\"auto\"):\n",
    "        \n",
    "        if max_features == 'auto' or max_features == 'sqrt':\n",
    "            self.features_size = lambda x: round(math.sqrt(x))\n",
    "        elif max_features == 'log2':\n",
    "            self.features_size = lambda x: round(math.log2(x))\n",
    "        elif max_features < 1:\n",
    "            self.features_size = lambda x: round(max_features * x)\n",
    "        elif max_features is None:\n",
    "            self.features_size = lambda x: round(x)\n",
    "        else:\n",
    "            self.features_size = lambda x: round(max_features)\n",
    "        \n",
    "        self.n_trees = n_trees\n",
    "        self.criterion = criterion\n",
    "        self.max_depth = max_depth\n",
    "        self.min_samples_leaf = min_samples_leaf\n",
    "        self.max_features = max_features\n",
    "                                                  \n",
    "    def fit(self, X, y):\n",
    "        self.trees = []\n",
    "        self.trees_indices = []\n",
    "        self.X = X\n",
    "        self.y = y\n",
    "        for i in range(self.n_trees):\n",
    "            classifier = self.DecisionTree(self.features_size, self.criterion, self.max_depth, self.min_samples_leaf)\n",
    "            \n",
    "            indices = [random.choice(range(len(X))) for _ in range(len(X))]\n",
    "            X_data = X.iloc[indices]\n",
    "            y_data = y.iloc[indices]\n",
    "            \n",
    "            classifier.fit(X_data, y_data)\n",
    "            self.trees.append(classifier)\n",
    "            self.trees_indices.append(indices)\n",
    "        oob = []\n",
    "        for index, row in X.iterrows():\n",
    "            oob_sum = 0\n",
    "            oob_all = 0\n",
    "            for tree, tree_indices in zip(self.trees, self.trees_indices):\n",
    "                if index not in tree_indices:\n",
    "                    predicted = tree.predict(X.loc[[index]])\n",
    "                    oob_all += 1\n",
    "                    oob_sum += predicted[0]\n",
    "            oob.append(1 if round(oob_sum / oob_all) == y.at[index] else 0)\n",
    "        self.oob_error = sum(oob) / len(X.index) \n",
    "                                                  \n",
    "    def predict(self, X):\n",
    "        predicted = []\n",
    "        for tree in self.trees:\n",
    "            predicted.append(tree.predict(X))\n",
    "        predicted = np.array(predicted)\n",
    "        y_pred = []\n",
    "        for column in predicted.T:\n",
    "            frequency_array = np.bincount(column)\n",
    "            y_pred.append(np.argmax(frequency_array))\n",
    "        return np.array(y_pred)\n",
    "                       \n",
    "    def predict_proba(self, X):\n",
    "        predicted = []\n",
    "        for tree in self.trees:\n",
    "            predicted.append(tree.predict(X))\n",
    "        predicted = np.array(predicted)\n",
    "        y_pred = []\n",
    "        for column in predicted.T:\n",
    "            p = np.mean(column)\n",
    "            y_pred.append({1: p, 0: 1 - p})\n",
    "        return y_pred"
   ]
  },
  {
   "cell_type": "markdown",
   "metadata": {},
   "source": [
    "### Задание 3 (2 балла)\n",
    "Оптимизируйте по `AUC` на кроссвалидации (размер валидационной выборки - 20%) параметры своей реализации `Random Forest`: \n",
    "\n",
    "максимальную глубину деревьев из [2, 3, 5, 7, 10], количество деревьев из [5, 10, 20, 30, 50, 100]. \n",
    "\n",
    "Постройте `ROC` кривую (и выведите `AUC` и `accuracy`) для лучшего варианта.\n",
    "\n",
    "Подсказка: можно построить сразу 100 деревьев глубины 10, а потом убирать деревья и\n",
    "глубину."
   ]
  },
  {
   "cell_type": "code",
   "execution_count": 4,
   "metadata": {},
   "outputs": [],
   "source": [
    "def hyperparameter_optimization(X, y):\n",
    "    best_score = -1\n",
    "    best_params = None\n",
    "    kf = KFold()\n",
    "    splits = [(train, test) for train, test in kf.split(X)]\n",
    "    for d in [2, 3, 5, 7, 10]:\n",
    "        for count in [5, 10, 20, 30, 50, 100]:\n",
    "            scores = []\n",
    "            for train_index, test_index in splits:\n",
    "                tree = RandomForestClassifier(max_depth=d, n_trees=count)\n",
    "                X_train, X_test = X.iloc[train_index], X.iloc[test_index]\n",
    "                y_train, y_test = y.iloc[train_index], y.iloc[test_index]\n",
    "                tree.fit(X_train, y_train)\n",
    "                y_pred = tree.predict(X_test)\n",
    "                scores.append(roc_auc_score(y_test, y_pred))\n",
    "            score = np.mean(scores)\n",
    "            if score > best_score:\n",
    "                best_score = score\n",
    "                best_params = {'depth': d, 'n_trees': count, 'clf': tree}\n",
    "                print(f'Finished with roc_auc-score {score} for depth {d} and n-trees {count}')\n",
    "    return best_score, best_params"
   ]
  },
  {
   "cell_type": "code",
   "execution_count": 5,
   "metadata": {},
   "outputs": [],
   "source": [
    "CANCER_DATA_PATH = 'hw2_data/cancer.csv'\n",
    "SPAM_DATA_PATH = 'hw2_data/spam.csv'\n",
    "def read_cancer_dataset(path_to_csv):\n",
    "    df = pd.read_csv(path_to_csv)\n",
    "    y = df.label\n",
    "    X = df.drop(columns=['label'])\n",
    "    y = y.replace({'M': 1, 'B': 0})\n",
    "    X = X.rename(columns={x:str(y + 1) for x,y in zip(X.columns,range(len(X.columns)))})\n",
    "    return X, y\n",
    "\n",
    "def read_spam_dataset(path_to_csv):\n",
    "    df = pd.read_csv(path_to_csv)\n",
    "    y = df.label\n",
    "    X = df.drop(columns=['label'])\n",
    "    X = X.rename(columns={x:str(y + 1) for x,y in zip(X.columns,range(len(X.columns)))})\n",
    "    return X, y\n",
    "\n",
    "X_cancer, y_cancer = read_cancer_dataset(CANCER_DATA_PATH)\n",
    "X_spam, y_spam = read_spam_dataset(SPAM_DATA_PATH)"
   ]
  },
  {
   "cell_type": "code",
   "execution_count": 6,
   "metadata": {},
   "outputs": [],
   "source": [
    "X_train, X_test, y_train, y_test = train_test_split(X_cancer, y_cancer, test_size=0.1)"
   ]
  },
  {
   "cell_type": "code",
   "execution_count": 7,
   "metadata": {},
   "outputs": [
    {
     "name": "stdout",
     "output_type": "stream",
     "text": [
      "Finished with roc_auc-score 0.8847478011893257 for depth 2 and n-trees 5\n",
      "Finished with roc_auc-score 0.8921893866230919 for depth 2 and n-trees 10\n",
      "Finished with roc_auc-score 0.9117919019501525 for depth 2 and n-trees 20\n",
      "Finished with roc_auc-score 0.9124485745184486 for depth 2 and n-trees 30\n",
      "Finished with roc_auc-score 0.9235633832195846 for depth 3 and n-trees 50\n",
      "Finished with roc_auc-score 0.9330183288476354 for depth 5 and n-trees 20\n",
      "Best auc is 0.9330183288476354 for params: depth -- 5, n_trees -- 20\n"
     ]
    }
   ],
   "source": [
    "auc, best_params = hyperparameter_optimization(X_train, y_train)\n",
    "print(f'Best auc is {auc} for params: depth -- {best_params[\"depth\"]}, n_trees -- {best_params[\"n_trees\"]}')"
   ]
  },
  {
   "cell_type": "code",
   "execution_count": 11,
   "metadata": {},
   "outputs": [],
   "source": [
    "def plot_roc_curve(y_test, p_pred):\n",
    "    positive_samples = sum(1 for y in y_test if y == 0)\n",
    "    tpr = []\n",
    "    fpr = []\n",
    "    for w in np.arange(-0.01, 1.02, 0.01):\n",
    "        y_pred = [(0 if p.get(0, 0) > w else 1) for p in p_pred]\n",
    "        tpr.append(sum(1 for yp, yt in zip(y_pred, y_test) if yp == 0 and yt == 0) / positive_samples)\n",
    "        fpr.append(sum(1 for yp, yt in zip(y_pred, y_test) if yp == 0 and yt != 0) / (len(y_test) - positive_samples))\n",
    "    plt.figure(figsize = (7, 7))\n",
    "    plt.plot(fpr, tpr)\n",
    "    plt.plot([0, 1], [0, 1], linestyle=\"--\")\n",
    "    plt.xlabel(\"False positive rate\")\n",
    "    plt.ylabel(\"True positive rate\")\n",
    "    plt.xlim(-0.01, 1.01)\n",
    "    plt.ylim(-0.01, 1.01)\n",
    "    plt.tight_layout()\n",
    "    plt.show()\n",
    "\n",
    "def rectangle_bounds(bounds):\n",
    "    return ((bounds[0][0], bounds[0][0], bounds[0][1], bounds[0][1]), \n",
    "            (bounds[1][0], bounds[1][1], bounds[1][1], bounds[1][0]))\n",
    "\n",
    "def plot_2d_tree(tree_root, bounds, colors):\n",
    "    if isinstance(tree_root, DecisionTreeNode):\n",
    "        if tree_root.split_dim:\n",
    "            plot_2d_tree(tree_root.left, [bounds[0], [bounds[1][0], tree_root.split_value]], colors)\n",
    "            plot_2d_tree(tree_root.right, [bounds[0], [tree_root.split_value, bounds[1][1]]], colors)\n",
    "            plt.plot(bounds[0], (tree_root.split_value, tree_root.split_value), c=(0, 0, 0))\n",
    "        else:\n",
    "            plot_2d_tree(tree_root.left, [[bounds[0][0], tree_root.split_value], bounds[1]], colors)\n",
    "            plot_2d_tree(tree_root.right, [[tree_root.split_value, bounds[0][1]], bounds[1]], colors)\n",
    "            plt.plot((tree_root.split_value, tree_root.split_value), bounds[1], c=(0, 0, 0))\n",
    "    else:\n",
    "        x, y = rectangle_bounds(bounds)\n",
    "        plt.fill(x, y, c=colors[tree_root.y] + [0.2])\n",
    "\n",
    "def plot_2d(tree, X, y):\n",
    "    plt.figure(figsize=(9, 9))\n",
    "    colors = dict((c, list(np.random.random(3))) for c in np.unique(y))\n",
    "    bounds = list(zip(np.min(X, axis=0), np.max(X, axis=0)))\n",
    "    plt.xlim(*bounds[0])\n",
    "    plt.ylim(*bounds[1])\n",
    "    plot_2d_tree(tree.root, list(zip(np.min(X, axis=0), np.max(X, axis=0))), colors)\n",
    "    for c in np.unique(y):\n",
    "        plt.scatter(X[y==c, 0], X[y==c, 1], c=[colors[c]], label=c)\n",
    "    plt.legend()\n",
    "    plt.tight_layout()\n",
    "    plt.show()"
   ]
  },
  {
   "cell_type": "code",
   "execution_count": 16,
   "metadata": {},
   "outputs": [
    {
     "name": "stdout",
     "output_type": "stream",
     "text": [
      "AUC score: 0.9210526315789472\n",
      "Accuracy score: 0.9122807017543859\n"
     ]
    },
    {
     "data": {
      "image/png": "[encoded data removed]",
      "text/plain": [
       "<Figure size 504x504 with 1 Axes>"
      ]
     },
     "metadata": {
      "needs_background": "light"
     },
     "output_type": "display_data"
    }
   ],
   "source": [
    "clf = RandomForestClassifier(max_depth=best_params[\"depth\"], n_trees=best_params[\"n_trees\"])\n",
    "clf.fit(X_train, y_train)\n",
    "p_pred = clf.predict_proba(X_test)\n",
    "print(f'AUC score: {roc_auc_score(y_pred, y_test)}')\n",
    "print(f'Accuracy score: {accuracy_score(y_pred, y_test)}')\n",
    "plot_roc_curve(y_test, p_pred)"
   ]
  },
  {
   "cell_type": "markdown",
   "metadata": {},
   "source": [
    "### Задание 4 (3 балла)\n",
    "Часто хочется понимать, насколько большую роль играет тот или иной признак для предсказания класса объекта. Есть различные способы посчитать его важность. Один из простых способов сделать это для Random Forest выглядит так:\n",
    "1. Посчитать out-of-bag ошибку предсказания `err_oob` (https://en.wikipedia.org/wiki/Out-of-bag_error)\n",
    "2. Перемешать значения признака `j` у объектов выборки (у каждого из объектов изменится значение признака `j` на какой-то другой)\n",
    "3. Посчитать out-of-bag ошибку (`err_oob_j`) еще раз.\n",
    "4. Оценкой важности признака `j` для одного дерева будет разность `err_oob_j - err_oob`, важность для всего леса считается как среднее значение важности по деревьям.\n",
    "\n",
    "Реализуйте функцию `feature_importance`, которая принимает на вход Random Forest и возвращает массив, в котором содержится важность для каждого признака."
   ]
  },
  {
   "cell_type": "code",
   "execution_count": 44,
   "metadata": {},
   "outputs": [],
   "source": [
    "def feature_importance(rfc):\n",
    "    oob = []\n",
    "    X = rfc.X\n",
    "    y = rfc.y\n",
    "    start_oob = rfc.oob_error\n",
    "    for name in X.columns:\n",
    "        X_copy = copy.deepcopy(X)\n",
    "        X_copy[name] = X_copy[name].sample(frac=1).reset_index(drop=True)\n",
    "        rfc.fit(X_copy, y)\n",
    "        oob.append(start_oob - rfc.oob_error)\n",
    "    return oob\n",
    "\n",
    "def most_important_features(importance, names, k=20):\n",
    "    # Выводит названия k самых важных признаков\n",
    "    idicies = np.argsort(importance)[::-1][:k]\n",
    "    return np.array(names)[idicies]"
   ]
  },
  {
   "cell_type": "markdown",
   "metadata": {},
   "source": [
    "Протестируйте решение на простом синтетическом наборе данных. В результате должна получиться точность `1.0`, наибольшее значение важности должно быть у признака с индексом `4`, признаки с индексами `2` и `3`  должны быть одинаково важны, а остальные признаки - не важны совсем."
   ]
  },
  {
   "cell_type": "code",
   "execution_count": 50,
   "metadata": {},
   "outputs": [
    {
     "name": "stdout",
     "output_type": "stream",
     "text": [
      "Accuracy: 0.333\n",
      "Importance: [0.0010000000000000009, 0.0010000000000000009, 0.0010000000000000009, 0.0010000000000000009, 0.0010000000000000009, 0.0]\n"
     ]
    }
   ],
   "source": [
    "def synthetic_dataset(size):\n",
    "    X = [(np.random.randint(0, 2), np.random.randint(0, 2), i % 6 == 3, \n",
    "          i % 6 == 0, i % 3 == 2, np.random.randint(0, 2)) for i in range(size)]\n",
    "    y = [i % 3 for i in range(size)]\n",
    "    return pd.DataFrame(X, columns=[str(i) + '_c' for i in range(6)]), pd.Series(y)\n",
    "\n",
    "X, y = synthetic_dataset(1000)\n",
    "rfc = RandomForestClassifier(n_trees=20)\n",
    "rfc.fit(X, y)\n",
    "print(\"Accuracy:\", np.mean(rfc.predict(X) == y))\n",
    "print(\"Importance:\", feature_importance(rfc))"
   ]
  },
  {
   "cell_type": "markdown",
   "metadata": {},
   "source": [
    "Проверьте, какие признаки важны для датасетов cancer и spam?"
   ]
  },
  {
   "cell_type": "markdown",
   "metadata": {},
   "source": [
    "_Ваш ответ_"
   ]
  },
  {
   "cell_type": "markdown",
   "metadata": {},
   "source": [
    "### Задание 5 (2 балла)\n",
    "В качестве альтернативы попробуем библиотечные реализации ансамблей моделей. \n",
    "\n",
    "1. [CatBoost](https://catboost.ai/docs/)\n",
    "2. [XGBoost](https://xgboost.readthedocs.io/en/latest/)\n",
    "3. [LightGBM](https://lightgbm.readthedocs.io/en/latest/)\n"
   ]
  },
  {
   "cell_type": "markdown",
   "metadata": {},
   "source": [
    "Установите необходимые библиотеки. \n",
    "Возможно, потребуется установка дополнительных пакетов"
   ]
  },
  {
   "cell_type": "code",
   "execution_count": null,
   "metadata": {},
   "outputs": [],
   "source": [
    "!pip install lightgbm\n",
    "!pip install catboost\n",
    "!pip install xgboost"
   ]
  },
  {
   "cell_type": "markdown",
   "metadata": {},
   "source": [
    "Также, как и реализованный нами RandomForest, примените модели для наших датасетов.\n",
    "\n",
    "Для стандартного набора параметров у каждой модели нарисуйте `ROC` кривую и выведите `AUC` и `accuracy`.\n",
    "\n",
    "Посчитайте время обучения каждой модели (можно использовать [timeit magic](https://ipython.readthedocs.io/en/stable/interactive/magics.html#magic-timeit)). \n",
    "\n",
    "Сравните метрики качества и скорость обучения моделей. Какие выводы можно сделать?"
   ]
  },
  {
   "cell_type": "code",
   "execution_count": null,
   "metadata": {},
   "outputs": [],
   "source": [
    "# YOUR_CODE"
   ]
  },
  {
   "cell_type": "markdown",
   "metadata": {},
   "source": [
    "_Ваш ответ_"
   ]
  }
 ],
 "metadata": {
  "kernelspec": {
   "display_name": "Python 3",
   "language": "python",
   "name": "python3"
  },
  "language_info": {
   "codemirror_mode": {
    "name": "ipython",
    "version": 3
   },
   "file_extension": ".py",
   "mimetype": "text/x-python",
   "name": "python",
   "nbconvert_exporter": "python",
   "pygments_lexer": "ipython3",
   "version": "3.7.6"
  }
 },
 "nbformat": 4,
 "nbformat_minor": 2
}
